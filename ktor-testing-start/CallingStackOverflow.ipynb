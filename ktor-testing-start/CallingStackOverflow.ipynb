{
 "cells": [
  {
   "cell_type": "code",
   "metadata": {
    "collapsed": true,
    "ExecuteTime": {
     "end_time": "2024-06-10T12:10:23.848479Z",
     "start_time": "2024-06-10T12:10:23.737548Z"
    }
   },
   "source": "%use ktor-client\n",
   "outputs": [],
   "execution_count": 10
  },
  {
   "metadata": {
    "ExecuteTime": {
     "end_time": "2024-06-10T12:10:24.543739Z",
     "start_time": "2024-06-10T12:10:23.850055Z"
    }
   },
   "cell_type": "code",
   "source": [
    "import io.ktor.client.*\n",
    "import io.ktor.client.plugins.*\n",
    "\n",
    "fun buildClient(rootURL: String) = http.config {\n",
    "    defaultRequest {\n",
    "        url(rootURL)\n",
    "    }\n",
    "}\n",
    "\n",
    "val rootURL = \"https://api.stackexchange.com/2.3/users/\"\n",
    "val userID = \"2635682\"\n",
    "val client = buildClient(rootURL)\n",
    "\n",
    "val data = client\n",
    "    .get(\"$userID/questions?site=stackoverflow\")\n",
    "    .deserializeJson()"
   ],
   "outputs": [],
   "execution_count": 11
  },
  {
   "metadata": {
    "ExecuteTime": {
     "end_time": "2024-06-10T12:10:24.621382Z",
     "start_time": "2024-06-10T12:10:24.552523Z"
    }
   },
   "cell_type": "code",
   "source": [
    "data.items.forEach {\n",
    "    println(it.title)\n",
    "}"
   ],
   "outputs": [
    {
     "name": "stdout",
     "output_type": "stream",
     "text": [
      "Signature of lambda return types in TypeScript\n",
      "Can Spring Parse and Inject Properties Files?\n",
      "How to map multiple HTTP Verbs to the same path in HTTP4K\n",
      "JAX-RS Client using Server Side Events prints the same items without completing\n",
      "How to ensure Reactive Stream completes with Spring WebFlux and WebSockets\n",
      "Cannot use &#39;subscribe&#39; or &#39;subscribeWith&#39; with &#39;ReactorNettyWebSocketClient&#39; in Kotlin\n",
      "How to alter test object properties in KotlinTest via interceptTestCase\n",
      "Purpose of third argument to &#39;reduce&#39; function in Java 8 functional programming\n",
      "Can a Sequence Diagram realistically capture your logic in the same depth as code?\n"
     ]
    }
   ],
   "execution_count": 12
  },
  {
   "metadata": {
    "ExecuteTime": {
     "end_time": "2024-06-10T12:10:24.627156Z",
     "start_time": "2024-06-10T12:10:24.623863Z"
    }
   },
   "cell_type": "code",
   "source": "",
   "outputs": [],
   "execution_count": 13
  }
 ],
 "metadata": {
  "kernelspec": {
   "display_name": "Kotlin",
   "language": "kotlin",
   "name": "kotlin"
  },
  "language_info": {
   "name": "kotlin",
   "version": "1.9.23",
   "mimetype": "text/x-kotlin",
   "file_extension": ".kt",
   "pygments_lexer": "kotlin",
   "codemirror_mode": "text/x-kotlin",
   "nbconvert_exporter": ""
  }
 },
 "nbformat": 4,
 "nbformat_minor": 0
}
